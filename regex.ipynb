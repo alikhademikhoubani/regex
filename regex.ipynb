{
 "cells": [
  {
   "cell_type": "code",
   "execution_count": 24,
   "id": "24c602bb",
   "metadata": {},
   "outputs": [],
   "source": [
    "import re"
   ]
  },
  {
   "cell_type": "code",
   "execution_count": 25,
   "id": "59728c84",
   "metadata": {},
   "outputs": [
    {
     "data": {
      "text/plain": [
       "['1235678912', '9998881234']"
      ]
     },
     "execution_count": 25,
     "metadata": {},
     "output_type": "execute_result"
    }
   ],
   "source": [
    "chat1 = '''ali: you ask lot of questions 1235678912, abc@xyz.com 9998881234'''\n",
    "chat2= '''ali: here it is: (123)-567-8912, abX_82@xyz.com'''\n",
    "chat3 = '''ali: yes, phone: 1235678912 email: abc@xyz.com'''\n",
    "pattern='\\d{10}'\n",
    "re.findall(pattern,chat1)"
   ]
  },
  {
   "cell_type": "code",
   "execution_count": 26,
   "id": "b5956f19",
   "metadata": {},
   "outputs": [
    {
     "name": "stdout",
     "output_type": "stream",
     "text": [
      "['1235678912', '9998881234']\n",
      "['(123)-567-8912']\n",
      "['1235678912']\n"
     ]
    }
   ],
   "source": [
    "pattern='\\d{10}|\\(\\d{3}\\)-\\d{3}-\\d{4}'\n",
    "print(re.findall(pattern,chat1))\n",
    "print(re.findall(pattern,chat2))\n",
    "print(re.findall(pattern,chat3))"
   ]
  },
  {
   "cell_type": "code",
   "execution_count": 27,
   "id": "30b36791",
   "metadata": {},
   "outputs": [
    {
     "name": "stdout",
     "output_type": "stream",
     "text": [
      "['abc@xyz.com']\n",
      "['abX_82@xyz.com']\n",
      "['abc@xyz.com']\n"
     ]
    }
   ],
   "source": [
    "pattern='[a-zA-Z0-9_]*@[a-zA-Z0-9]*\\.[a-zA-Z]*'\n",
    "print(re.findall(pattern,chat1))\n",
    "print(re.findall(pattern,chat2))\n",
    "print(re.findall(pattern,chat3))"
   ]
  },
  {
   "cell_type": "code",
   "execution_count": 28,
   "id": "d8081c52",
   "metadata": {},
   "outputs": [
    {
     "name": "stdout",
     "output_type": "stream",
     "text": [
      "['412889912']\n",
      "['412889912']\n",
      "['412889912']\n"
     ]
    }
   ],
   "source": [
    "chat1='ali: Hello, I am having an issu with my order # 412889912'\n",
    "chat2='ali: I have a problem with my order number 412889912'\n",
    "chat3='ali: My order 412889912is having an issu , I was charged 300$ when online it says 280$'\n",
    "pattern='order[^\\d]*(\\d*)'\n",
    "print(re.findall(pattern,chat1))\n",
    "print(re.findall(pattern,chat2))\n",
    "print(re.findall(pattern,chat3))"
   ]
  },
  {
   "cell_type": "code",
   "execution_count": 29,
   "id": "806bc097",
   "metadata": {},
   "outputs": [],
   "source": [
    "text='''Born       Elon Reeve Musk\n",
    "June 28, 1971 (age 53)\n",
    "Pretoria, Transvall, South Africa\n",
    "Citizenship\n",
    "South Africa (1971-present)\n",
    "Canada (1971-present)\n",
    "United States (2002-present)\n",
    "Education       University of Pennsylvania (BS, BA)\n",
    "Title\n",
    "Founder, CEO and Chief Enginner of SpaceX\n",
    "CEO and product-architect of Tesla, Inc.\n",
    "Founder of The Boring Company and X.com (now part of PayPal)\n",
    "Co-founder of Neuralink, OpenAI, and Zip2\n",
    "Spouse(s)\n",
    "Justin Wilson\n",
    "U+200B\n",
    "U+200B(m. 2000; div. 2008)U+200B\n",
    "Talulah-Riley\n",
    "U+200B\n",
    "U+200B(m. 2010; div. 2012)U+200B\n",
    "U+200B\n",
    "U+200B(m. 2013; div. 2016)U+200B'''"
   ]
  },
  {
   "cell_type": "code",
   "execution_count": 33,
   "id": "7fc7a388",
   "metadata": {},
   "outputs": [
    {
     "data": {
      "text/plain": [
       "['53']"
      ]
     },
     "execution_count": 33,
     "metadata": {},
     "output_type": "execute_result"
    }
   ],
   "source": [
    "pattren='age (\\d+)'\n",
    "re.findall(pattren,text)"
   ]
  },
  {
   "cell_type": "code",
   "execution_count": 40,
   "id": "50accf8b",
   "metadata": {},
   "outputs": [
    {
     "data": {
      "text/plain": [
       "'Elon Reeve Musk'"
      ]
     },
     "execution_count": 40,
     "metadata": {},
     "output_type": "execute_result"
    }
   ],
   "source": [
    "pattern='Born(.*)'\n",
    "matches=re.findall(pattern,text)\n",
    "matches[0].strip()"
   ]
  },
  {
   "cell_type": "code",
   "execution_count": 42,
   "id": "0cd92489",
   "metadata": {},
   "outputs": [
    {
     "data": {
      "text/plain": [
       "['June 28, 1971 ']"
      ]
     },
     "execution_count": 42,
     "metadata": {},
     "output_type": "execute_result"
    }
   ],
   "source": [
    "pattern='Born.*\\n(.*)\\(age'\n",
    "re.findall(pattern,text)"
   ]
  },
  {
   "cell_type": "code",
   "execution_count": 43,
   "id": "48f69075",
   "metadata": {},
   "outputs": [
    {
     "data": {
      "text/plain": [
       "['Pretoria, Transvall, South Africa']"
      ]
     },
     "execution_count": 43,
     "metadata": {},
     "output_type": "execute_result"
    }
   ],
   "source": [
    "pattern='\\(age.*\\n(.*)'\n",
    "re.findall(pattern,text)"
   ]
  },
  {
   "cell_type": "code",
   "execution_count": 44,
   "id": "533b98fd",
   "metadata": {},
   "outputs": [],
   "source": [
    "def get_pattern_match(pattern,text):\n",
    "    matches=re.findall(pattern,text)\n",
    "    if matches:\n",
    "        return matches[0]"
   ]
  },
  {
   "cell_type": "code",
   "execution_count": 56,
   "id": "c1a8dfbd",
   "metadata": {},
   "outputs": [],
   "source": [
    "def get_personal_information(text):\n",
    "    age=get_pattern_match('age (\\d+)',text)\n",
    "    full_name=get_pattern_match('Born(.*)\\n',text)\n",
    "    birth_date=get_pattern_match('Born.*\\n(.*)\\(age',text)\n",
    "    birth_place=get_pattern_match('\\(age.*\\n(.*)',text)\n",
    "    \n",
    "    return {\n",
    "        'age':int(age),\n",
    "        'name':full_name.strip(),\n",
    "        'birth_date':birth_date.strip(),\n",
    "        'birth_place':birth_place.strip()\n",
    "    }"
   ]
  },
  {
   "cell_type": "code",
   "execution_count": 57,
   "id": "05bdf390",
   "metadata": {},
   "outputs": [
    {
     "data": {
      "text/plain": [
       "{'age': 53,\n",
       " 'name': 'Elon Reeve Musk',\n",
       " 'birth_date': 'June 28, 1971',\n",
       " 'birth_place': 'Pretoria, Transvall, South Africa'}"
      ]
     },
     "execution_count": 57,
     "metadata": {},
     "output_type": "execute_result"
    }
   ],
   "source": [
    "get_personal_information(text)"
   ]
  },
  {
   "cell_type": "code",
   "execution_count": 59,
   "id": "3eefc572",
   "metadata": {},
   "outputs": [],
   "source": [
    "text2='''Born\tJeffrey Preston Jorgensen\n",
    "January 12, 1964 (age 60)\n",
    "Albuquerque, New Mexico, U.S.\n",
    "Education\tPrinceton University (BSE)\n",
    "Occupations\t\n",
    "Businessmanmedia proprietorinvestor\n",
    "Known for\tfounding Amazon\n",
    "Title\t\n",
    "Founder and executive chairman of Amazon\n",
    "Founder of Blue Origin\n",
    "Owner of The Washington Post\n",
    "Founder of Bezos Expeditions\n",
    "Executive Chair of Bezos Earth Fund'''"
   ]
  },
  {
   "cell_type": "code",
   "execution_count": 60,
   "id": "221f3952",
   "metadata": {},
   "outputs": [
    {
     "data": {
      "text/plain": [
       "{'age': 60,\n",
       " 'name': 'Jeffrey Preston Jorgensen',\n",
       " 'birth_date': 'January 12, 1964',\n",
       " 'birth_place': 'Albuquerque, New Mexico, U.S.'}"
      ]
     },
     "execution_count": 60,
     "metadata": {},
     "output_type": "execute_result"
    }
   ],
   "source": [
    "get_personal_information(text2)"
   ]
  }
 ],
 "metadata": {
  "kernelspec": {
   "display_name": "Python 3 (ipykernel)",
   "language": "python",
   "name": "python3"
  },
  "language_info": {
   "codemirror_mode": {
    "name": "ipython",
    "version": 3
   },
   "file_extension": ".py",
   "mimetype": "text/x-python",
   "name": "python",
   "nbconvert_exporter": "python",
   "pygments_lexer": "ipython3",
   "version": "3.10.5"
  }
 },
 "nbformat": 4,
 "nbformat_minor": 5
}
